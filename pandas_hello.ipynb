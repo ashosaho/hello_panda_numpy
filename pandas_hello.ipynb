{
  "nbformat": 4,
  "nbformat_minor": 0,
  "metadata": {
    "colab": {
      "provenance": [],
      "authorship_tag": "ABX9TyO70bycJ7sIOM1CRwsQXeGz",
      "include_colab_link": true
    },
    "kernelspec": {
      "name": "python3",
      "display_name": "Python 3"
    },
    "language_info": {
      "name": "python"
    }
  },
  "cells": [
    {
      "cell_type": "markdown",
      "metadata": {
        "id": "view-in-github",
        "colab_type": "text"
      },
      "source": [
        "<a href=\"https://colab.research.google.com/github/ashosaho/hello_panda_numpy/blob/main/pandas_hello.ipynb\" target=\"_parent\"><img src=\"https://colab.research.google.com/assets/colab-badge.svg\" alt=\"Open In Colab\"/></a>"
      ]
    },
    {
      "cell_type": "markdown",
      "source": [
        "Print panads version"
      ],
      "metadata": {
        "id": "qES23rGU9y8i"
      }
    },
    {
      "cell_type": "code",
      "source": [
        "import pandas as pd\n",
        "print (pd.__version__)"
      ],
      "metadata": {
        "colab": {
          "base_uri": "https://localhost:8080/"
        },
        "id": "tIvKF1Kt9mz7",
        "outputId": "5de6de97-adaa-4dcc-eb2e-2d25530920d1"
      },
      "execution_count": 4,
      "outputs": [
        {
          "output_type": "stream",
          "name": "stdout",
          "text": [
            "2.2.2\n"
          ]
        }
      ]
    },
    {
      "cell_type": "markdown",
      "source": [
        "Reading CSV file"
      ],
      "metadata": {
        "id": "StrWD1gV-B-R"
      }
    },
    {
      "cell_type": "code",
      "source": [
        "csv_file = pd.read_csv()"
      ],
      "metadata": {
        "id": "KsLTxvGu96JY"
      },
      "execution_count": null,
      "outputs": []
    }
  ]
}